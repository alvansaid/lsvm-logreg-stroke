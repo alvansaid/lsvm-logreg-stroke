{
 "cells": [
  {
   "cell_type": "markdown",
   "metadata": {},
   "source": [
    "# Logistic Regression for Ischemic Stroke Data Classification\n"
   ]
  },
  {
   "cell_type": "code",
   "execution_count": 1,
   "metadata": {},
   "outputs": [],
   "source": [
    "from sklearn import svm\n",
    "import numpy as np\n",
    "import pandas as pd\n",
    "from sklearn.model_selection import train_test_split\n",
    "from sklearn import datasets\n",
    "from sklearn import metrics\n",
    "from sklearn.metrics import classification_report\n",
    "from sklearn.metrics import confusion_matrix\n",
    "from sklearn.metrics import accuracy_score\n",
    "import matplotlib.pyplot as plt\n",
    "import seaborn as sns\n",
    "sns.set()"
   ]
  },
  {
   "cell_type": "code",
   "execution_count": 2,
   "metadata": {},
   "outputs": [],
   "source": [
    "df = pd.read_excel(r\"C:\\Users\\alvansaid\\Downloads\\Infark.xlsx\") #Data were not published because of license"
   ]
  },
  {
   "cell_type": "code",
   "execution_count": 4,
   "metadata": {
    "scrolled": true
   },
   "outputs": [
    {
     "data": {
      "text/html": [
       "<div>\n",
       "<style scoped>\n",
       "    .dataframe tbody tr th:only-of-type {\n",
       "        vertical-align: middle;\n",
       "    }\n",
       "\n",
       "    .dataframe tbody tr th {\n",
       "        vertical-align: top;\n",
       "    }\n",
       "\n",
       "    .dataframe thead th {\n",
       "        text-align: right;\n",
       "    }\n",
       "</style>\n",
       "<table border=\"1\" class=\"dataframe\">\n",
       "  <thead>\n",
       "    <tr style=\"text-align: right;\">\n",
       "      <th></th>\n",
       "      <th>Area</th>\n",
       "      <th>Min</th>\n",
       "      <th>Max</th>\n",
       "      <th>Average</th>\n",
       "      <th>SD</th>\n",
       "      <th>Sum</th>\n",
       "      <th>Length</th>\n",
       "      <th>Target</th>\n",
       "    </tr>\n",
       "  </thead>\n",
       "  <tbody>\n",
       "    <tr>\n",
       "      <th>Area</th>\n",
       "      <td>1.000000</td>\n",
       "      <td>-0.234525</td>\n",
       "      <td>0.242716</td>\n",
       "      <td>0.033133</td>\n",
       "      <td>0.204744</td>\n",
       "      <td>0.747350</td>\n",
       "      <td>0.943794</td>\n",
       "      <td>-0.092000</td>\n",
       "    </tr>\n",
       "    <tr>\n",
       "      <th>Min</th>\n",
       "      <td>-0.234525</td>\n",
       "      <td>1.000000</td>\n",
       "      <td>0.447781</td>\n",
       "      <td>0.801423</td>\n",
       "      <td>-0.478864</td>\n",
       "      <td>0.080421</td>\n",
       "      <td>-0.238263</td>\n",
       "      <td>-0.679615</td>\n",
       "    </tr>\n",
       "    <tr>\n",
       "      <th>Max</th>\n",
       "      <td>0.242716</td>\n",
       "      <td>0.447781</td>\n",
       "      <td>1.000000</td>\n",
       "      <td>0.841550</td>\n",
       "      <td>0.443949</td>\n",
       "      <td>0.540043</td>\n",
       "      <td>0.312020</td>\n",
       "      <td>-0.577936</td>\n",
       "    </tr>\n",
       "    <tr>\n",
       "      <th>Average</th>\n",
       "      <td>0.033133</td>\n",
       "      <td>0.801423</td>\n",
       "      <td>0.841550</td>\n",
       "      <td>1.000000</td>\n",
       "      <td>0.025014</td>\n",
       "      <td>0.386289</td>\n",
       "      <td>0.070610</td>\n",
       "      <td>-0.755833</td>\n",
       "    </tr>\n",
       "    <tr>\n",
       "      <th>SD</th>\n",
       "      <td>0.204744</td>\n",
       "      <td>-0.478864</td>\n",
       "      <td>0.443949</td>\n",
       "      <td>0.025014</td>\n",
       "      <td>1.000000</td>\n",
       "      <td>0.231972</td>\n",
       "      <td>0.243507</td>\n",
       "      <td>0.134619</td>\n",
       "    </tr>\n",
       "    <tr>\n",
       "      <th>Sum</th>\n",
       "      <td>0.747350</td>\n",
       "      <td>0.080421</td>\n",
       "      <td>0.540043</td>\n",
       "      <td>0.386289</td>\n",
       "      <td>0.231972</td>\n",
       "      <td>1.000000</td>\n",
       "      <td>0.770556</td>\n",
       "      <td>-0.340950</td>\n",
       "    </tr>\n",
       "    <tr>\n",
       "      <th>Length</th>\n",
       "      <td>0.943794</td>\n",
       "      <td>-0.238263</td>\n",
       "      <td>0.312020</td>\n",
       "      <td>0.070610</td>\n",
       "      <td>0.243507</td>\n",
       "      <td>0.770556</td>\n",
       "      <td>1.000000</td>\n",
       "      <td>-0.120775</td>\n",
       "    </tr>\n",
       "    <tr>\n",
       "      <th>Target</th>\n",
       "      <td>-0.092000</td>\n",
       "      <td>-0.679615</td>\n",
       "      <td>-0.577936</td>\n",
       "      <td>-0.755833</td>\n",
       "      <td>0.134619</td>\n",
       "      <td>-0.340950</td>\n",
       "      <td>-0.120775</td>\n",
       "      <td>1.000000</td>\n",
       "    </tr>\n",
       "  </tbody>\n",
       "</table>\n",
       "</div>"
      ],
      "text/plain": [
       "             Area       Min       Max   Average        SD       Sum    Length  \\\n",
       "Area     1.000000 -0.234525  0.242716  0.033133  0.204744  0.747350  0.943794   \n",
       "Min     -0.234525  1.000000  0.447781  0.801423 -0.478864  0.080421 -0.238263   \n",
       "Max      0.242716  0.447781  1.000000  0.841550  0.443949  0.540043  0.312020   \n",
       "Average  0.033133  0.801423  0.841550  1.000000  0.025014  0.386289  0.070610   \n",
       "SD       0.204744 -0.478864  0.443949  0.025014  1.000000  0.231972  0.243507   \n",
       "Sum      0.747350  0.080421  0.540043  0.386289  0.231972  1.000000  0.770556   \n",
       "Length   0.943794 -0.238263  0.312020  0.070610  0.243507  0.770556  1.000000   \n",
       "Target  -0.092000 -0.679615 -0.577936 -0.755833  0.134619 -0.340950 -0.120775   \n",
       "\n",
       "           Target  \n",
       "Area    -0.092000  \n",
       "Min     -0.679615  \n",
       "Max     -0.577936  \n",
       "Average -0.755833  \n",
       "SD       0.134619  \n",
       "Sum     -0.340950  \n",
       "Length  -0.120775  \n",
       "Target   1.000000  "
      ]
     },
     "execution_count": 4,
     "metadata": {},
     "output_type": "execute_result"
    }
   ],
   "source": [
    "df.corr()"
   ]
  },
  {
   "cell_type": "code",
   "execution_count": 4,
   "metadata": {},
   "outputs": [
    {
     "data": {
      "text/html": [
       "<div>\n",
       "<style scoped>\n",
       "    .dataframe tbody tr th:only-of-type {\n",
       "        vertical-align: middle;\n",
       "    }\n",
       "\n",
       "    .dataframe tbody tr th {\n",
       "        vertical-align: top;\n",
       "    }\n",
       "\n",
       "    .dataframe thead th {\n",
       "        text-align: right;\n",
       "    }\n",
       "</style>\n",
       "<table border=\"1\" class=\"dataframe\">\n",
       "  <thead>\n",
       "    <tr style=\"text-align: right;\">\n",
       "      <th></th>\n",
       "      <th>Area</th>\n",
       "      <th>Min</th>\n",
       "      <th>Max</th>\n",
       "      <th>Average</th>\n",
       "      <th>SD</th>\n",
       "      <th>Sum</th>\n",
       "      <th>Length</th>\n",
       "      <th>Target</th>\n",
       "    </tr>\n",
       "  </thead>\n",
       "  <tbody>\n",
       "    <tr>\n",
       "      <th>0</th>\n",
       "      <td>0.2</td>\n",
       "      <td>-3</td>\n",
       "      <td>38</td>\n",
       "      <td>16.88</td>\n",
       "      <td>9.30</td>\n",
       "      <td>5166</td>\n",
       "      <td>2.0</td>\n",
       "      <td>1</td>\n",
       "    </tr>\n",
       "    <tr>\n",
       "      <th>1</th>\n",
       "      <td>0.1</td>\n",
       "      <td>15</td>\n",
       "      <td>44</td>\n",
       "      <td>30.64</td>\n",
       "      <td>7.37</td>\n",
       "      <td>7722</td>\n",
       "      <td>1.8</td>\n",
       "      <td>0</td>\n",
       "    </tr>\n",
       "    <tr>\n",
       "      <th>2</th>\n",
       "      <td>0.2</td>\n",
       "      <td>-5</td>\n",
       "      <td>51</td>\n",
       "      <td>19.19</td>\n",
       "      <td>12.44</td>\n",
       "      <td>4797</td>\n",
       "      <td>1.9</td>\n",
       "      <td>1</td>\n",
       "    </tr>\n",
       "    <tr>\n",
       "      <th>3</th>\n",
       "      <td>0.1</td>\n",
       "      <td>18</td>\n",
       "      <td>51</td>\n",
       "      <td>32.29</td>\n",
       "      <td>7.84</td>\n",
       "      <td>8136</td>\n",
       "      <td>1.8</td>\n",
       "      <td>0</td>\n",
       "    </tr>\n",
       "    <tr>\n",
       "      <th>4</th>\n",
       "      <td>0.1</td>\n",
       "      <td>-14</td>\n",
       "      <td>26</td>\n",
       "      <td>8.67</td>\n",
       "      <td>10.25</td>\n",
       "      <td>824</td>\n",
       "      <td>1.2</td>\n",
       "      <td>1</td>\n",
       "    </tr>\n",
       "  </tbody>\n",
       "</table>\n",
       "</div>"
      ],
      "text/plain": [
       "   Area  Min  Max  Average     SD   Sum  Length  Target\n",
       "0   0.2   -3   38    16.88   9.30  5166     2.0       1\n",
       "1   0.1   15   44    30.64   7.37  7722     1.8       0\n",
       "2   0.2   -5   51    19.19  12.44  4797     1.9       1\n",
       "3   0.1   18   51    32.29   7.84  8136     1.8       0\n",
       "4   0.1  -14   26     8.67  10.25   824     1.2       1"
      ]
     },
     "execution_count": 4,
     "metadata": {},
     "output_type": "execute_result"
    }
   ],
   "source": [
    "df.head()"
   ]
  },
  {
   "cell_type": "code",
   "execution_count": 5,
   "metadata": {},
   "outputs": [
    {
     "data": {
      "text/plain": [
       "1    103\n",
       "0    103\n",
       "Name: Target, dtype: int64"
      ]
     },
     "execution_count": 5,
     "metadata": {},
     "output_type": "execute_result"
    }
   ],
   "source": [
    "df['Target'].value_counts()"
   ]
  },
  {
   "cell_type": "code",
   "execution_count": 6,
   "metadata": {},
   "outputs": [],
   "source": [
    "y = df.Target\n",
    "X = df.drop('Target', axis=1)"
   ]
  },
  {
   "cell_type": "code",
   "execution_count": 7,
   "metadata": {},
   "outputs": [
    {
     "data": {
      "text/html": [
       "<div>\n",
       "<style scoped>\n",
       "    .dataframe tbody tr th:only-of-type {\n",
       "        vertical-align: middle;\n",
       "    }\n",
       "\n",
       "    .dataframe tbody tr th {\n",
       "        vertical-align: top;\n",
       "    }\n",
       "\n",
       "    .dataframe thead th {\n",
       "        text-align: right;\n",
       "    }\n",
       "</style>\n",
       "<table border=\"1\" class=\"dataframe\">\n",
       "  <thead>\n",
       "    <tr style=\"text-align: right;\">\n",
       "      <th></th>\n",
       "      <th>Area</th>\n",
       "      <th>Min</th>\n",
       "      <th>Max</th>\n",
       "      <th>Average</th>\n",
       "      <th>SD</th>\n",
       "      <th>Sum</th>\n",
       "      <th>Length</th>\n",
       "    </tr>\n",
       "  </thead>\n",
       "  <tbody>\n",
       "    <tr>\n",
       "      <th>0</th>\n",
       "      <td>0.2</td>\n",
       "      <td>-3</td>\n",
       "      <td>38</td>\n",
       "      <td>16.88</td>\n",
       "      <td>9.30</td>\n",
       "      <td>5166</td>\n",
       "      <td>2.0</td>\n",
       "    </tr>\n",
       "    <tr>\n",
       "      <th>1</th>\n",
       "      <td>0.1</td>\n",
       "      <td>15</td>\n",
       "      <td>44</td>\n",
       "      <td>30.64</td>\n",
       "      <td>7.37</td>\n",
       "      <td>7722</td>\n",
       "      <td>1.8</td>\n",
       "    </tr>\n",
       "    <tr>\n",
       "      <th>2</th>\n",
       "      <td>0.2</td>\n",
       "      <td>-5</td>\n",
       "      <td>51</td>\n",
       "      <td>19.19</td>\n",
       "      <td>12.44</td>\n",
       "      <td>4797</td>\n",
       "      <td>1.9</td>\n",
       "    </tr>\n",
       "    <tr>\n",
       "      <th>3</th>\n",
       "      <td>0.1</td>\n",
       "      <td>18</td>\n",
       "      <td>51</td>\n",
       "      <td>32.29</td>\n",
       "      <td>7.84</td>\n",
       "      <td>8136</td>\n",
       "      <td>1.8</td>\n",
       "    </tr>\n",
       "    <tr>\n",
       "      <th>4</th>\n",
       "      <td>0.1</td>\n",
       "      <td>-14</td>\n",
       "      <td>26</td>\n",
       "      <td>8.67</td>\n",
       "      <td>10.25</td>\n",
       "      <td>824</td>\n",
       "      <td>1.2</td>\n",
       "    </tr>\n",
       "    <tr>\n",
       "      <th>...</th>\n",
       "      <td>...</td>\n",
       "      <td>...</td>\n",
       "      <td>...</td>\n",
       "      <td>...</td>\n",
       "      <td>...</td>\n",
       "      <td>...</td>\n",
       "      <td>...</td>\n",
       "    </tr>\n",
       "    <tr>\n",
       "      <th>201</th>\n",
       "      <td>0.1</td>\n",
       "      <td>15</td>\n",
       "      <td>52</td>\n",
       "      <td>32.40</td>\n",
       "      <td>8.54</td>\n",
       "      <td>5411</td>\n",
       "      <td>1.4</td>\n",
       "    </tr>\n",
       "    <tr>\n",
       "      <th>202</th>\n",
       "      <td>0.1</td>\n",
       "      <td>10</td>\n",
       "      <td>31</td>\n",
       "      <td>17.17</td>\n",
       "      <td>5.26</td>\n",
       "      <td>824</td>\n",
       "      <td>1.2</td>\n",
       "    </tr>\n",
       "    <tr>\n",
       "      <th>203</th>\n",
       "      <td>0.1</td>\n",
       "      <td>21</td>\n",
       "      <td>51</td>\n",
       "      <td>34.67</td>\n",
       "      <td>6.37</td>\n",
       "      <td>3432</td>\n",
       "      <td>1.6</td>\n",
       "    </tr>\n",
       "    <tr>\n",
       "      <th>204</th>\n",
       "      <td>0.0</td>\n",
       "      <td>7</td>\n",
       "      <td>33</td>\n",
       "      <td>16.69</td>\n",
       "      <td>8.40</td>\n",
       "      <td>217</td>\n",
       "      <td>0.7</td>\n",
       "    </tr>\n",
       "    <tr>\n",
       "      <th>205</th>\n",
       "      <td>0.1</td>\n",
       "      <td>25</td>\n",
       "      <td>59</td>\n",
       "      <td>44.73</td>\n",
       "      <td>6.16</td>\n",
       "      <td>3847</td>\n",
       "      <td>1.5</td>\n",
       "    </tr>\n",
       "  </tbody>\n",
       "</table>\n",
       "<p>206 rows × 7 columns</p>\n",
       "</div>"
      ],
      "text/plain": [
       "     Area  Min  Max  Average     SD   Sum  Length\n",
       "0     0.2   -3   38    16.88   9.30  5166     2.0\n",
       "1     0.1   15   44    30.64   7.37  7722     1.8\n",
       "2     0.2   -5   51    19.19  12.44  4797     1.9\n",
       "3     0.1   18   51    32.29   7.84  8136     1.8\n",
       "4     0.1  -14   26     8.67  10.25   824     1.2\n",
       "..    ...  ...  ...      ...    ...   ...     ...\n",
       "201   0.1   15   52    32.40   8.54  5411     1.4\n",
       "202   0.1   10   31    17.17   5.26   824     1.2\n",
       "203   0.1   21   51    34.67   6.37  3432     1.6\n",
       "204   0.0    7   33    16.69   8.40   217     0.7\n",
       "205   0.1   25   59    44.73   6.16  3847     1.5\n",
       "\n",
       "[206 rows x 7 columns]"
      ]
     },
     "execution_count": 7,
     "metadata": {},
     "output_type": "execute_result"
    }
   ],
   "source": [
    "X"
   ]
  },
  {
   "cell_type": "code",
   "execution_count": 8,
   "metadata": {},
   "outputs": [
    {
     "data": {
      "text/plain": [
       "0      1\n",
       "1      0\n",
       "2      1\n",
       "3      0\n",
       "4      1\n",
       "      ..\n",
       "201    0\n",
       "202    1\n",
       "203    0\n",
       "204    1\n",
       "205    0\n",
       "Name: Target, Length: 206, dtype: int64"
      ]
     },
     "execution_count": 8,
     "metadata": {},
     "output_type": "execute_result"
    }
   ],
   "source": [
    "y"
   ]
  },
  {
   "cell_type": "code",
   "execution_count": 9,
   "metadata": {},
   "outputs": [],
   "source": [
    "from sklearn.preprocessing import StandardScaler\n",
    "\n",
    "sc = StandardScaler()\n",
    "X = sc.fit_transform(X)"
   ]
  },
  {
   "cell_type": "code",
   "execution_count": 12,
   "metadata": {},
   "outputs": [
    {
     "data": {
      "text/plain": [
       "array([[ 0.60153724, -0.99938321, -0.06623003, ...,  0.78731147,\n",
       "         0.73500565,  0.78991281],\n",
       "       [-0.12738436,  0.58155234,  0.42103379, ...,  0.04846595,\n",
       "         1.48495659,  0.48084911],\n",
       "       [ 0.60153724, -1.17504271,  0.98950826, ...,  1.98937103,\n",
       "         0.62673808,  0.63538096],\n",
       "       ...,\n",
       "       [-0.12738436,  1.10853086,  0.98950826, ..., -0.33435557,\n",
       "         0.22623611,  0.17178541],\n",
       "       [-0.85630595, -0.12108568, -0.47228323, ...,  0.44277211,\n",
       "        -0.71707073, -1.21900125],\n",
       "       [-0.12738436,  1.45984987,  1.63919336, ..., -0.41474809,\n",
       "         0.34800045,  0.01725356]])"
      ]
     },
     "execution_count": 12,
     "metadata": {},
     "output_type": "execute_result"
    }
   ],
   "source": [
    "X"
   ]
  },
  {
   "cell_type": "markdown",
   "metadata": {},
   "source": [
    "# Training and Testing"
   ]
  },
  {
   "cell_type": "code",
   "execution_count": 10,
   "metadata": {},
   "outputs": [
    {
     "name": "stdout",
     "output_type": "stream",
     "text": [
      "Best CV params {'C': 0.01}\n"
     ]
    }
   ],
   "source": [
    "from sklearn.linear_model import LogisticRegression\n",
    "from sklearn.model_selection import GridSearchCV\n",
    "# Specify L1 regularization\n",
    "lr = LogisticRegression()\n",
    "\n",
    "# Instantiate the GridSearchCV object and run the search\n",
    "searcher = GridSearchCV(lr, {'C':[0.001, 0.01, 0.1, 1, 10]}, cv=10)\n",
    "searcher.fit(X, y)\n",
    "\n",
    "# Report the best parameters\n",
    "print(\"Best CV params\", searcher.best_params_)"
   ]
  },
  {
   "cell_type": "code",
   "execution_count": 46,
   "metadata": {},
   "outputs": [],
   "source": [
    "X_train, X_test, y_train, y_test = train_test_split(X, y, test_size = 0.1\n",
    "                                                    , random_state = 6)\n",
    "# X_train, X_test, y_train, y_test = train_test_split(X, y, test_size = 0.5, random_state = 18)"
   ]
  },
  {
   "cell_type": "code",
   "execution_count": 47,
   "metadata": {},
   "outputs": [],
   "source": [
    "lr = LogisticRegression(C=0.01)"
   ]
  },
  {
   "cell_type": "code",
   "execution_count": 48,
   "metadata": {},
   "outputs": [
    {
     "data": {
      "text/plain": [
       "LogisticRegression(C=0.01, class_weight=None, dual=False, fit_intercept=True,\n",
       "                   intercept_scaling=1, l1_ratio=None, max_iter=100,\n",
       "                   multi_class='auto', n_jobs=None, penalty='l2',\n",
       "                   random_state=None, solver='lbfgs', tol=0.0001, verbose=0,\n",
       "                   warm_start=False)"
      ]
     },
     "execution_count": 48,
     "metadata": {},
     "output_type": "execute_result"
    }
   ],
   "source": [
    "lr.fit(X_train, y_train)"
   ]
  },
  {
   "cell_type": "code",
   "execution_count": 49,
   "metadata": {},
   "outputs": [
    {
     "data": {
      "text/plain": [
       "0.9523809523809523"
      ]
     },
     "execution_count": 49,
     "metadata": {},
     "output_type": "execute_result"
    }
   ],
   "source": [
    "lr.score(X_test, y_test)"
   ]
  },
  {
   "cell_type": "code",
   "execution_count": 50,
   "metadata": {},
   "outputs": [
    {
     "name": "stdout",
     "output_type": "stream",
     "text": [
      "0.9523809523809523\n",
      "[[ 9  0]\n",
      " [ 1 11]]\n",
      "              precision    recall  f1-score   support\n",
      "\n",
      "           0       0.90      1.00      0.95         9\n",
      "           1       1.00      0.92      0.96        12\n",
      "\n",
      "    accuracy                           0.95        21\n",
      "   macro avg       0.95      0.96      0.95        21\n",
      "weighted avg       0.96      0.95      0.95        21\n",
      "\n"
     ]
    }
   ],
   "source": [
    "y_pred = lr.predict(X_test)\n",
    "\n",
    "#how accurately our classifier predicts those test data\n",
    "from sklearn.metrics import accuracy_score\n",
    "print(accuracy_score(y_test, y_pred))\n",
    "\n",
    "from sklearn.metrics import classification_report, confusion_matrix\n",
    "print(confusion_matrix(y_test, y_pred))\n",
    "print(classification_report(y_test, y_pred))"
   ]
  },
  {
   "cell_type": "code",
   "execution_count": null,
   "metadata": {},
   "outputs": [],
   "source": []
  }
 ],
 "metadata": {
  "kernelspec": {
   "display_name": "Python 3",
   "language": "python",
   "name": "python3"
  },
  "language_info": {
   "codemirror_mode": {
    "name": "ipython",
    "version": 3
   },
   "file_extension": ".py",
   "mimetype": "text/x-python",
   "name": "python",
   "nbconvert_exporter": "python",
   "pygments_lexer": "ipython3",
   "version": "3.7.6"
  }
 },
 "nbformat": 4,
 "nbformat_minor": 4
}
